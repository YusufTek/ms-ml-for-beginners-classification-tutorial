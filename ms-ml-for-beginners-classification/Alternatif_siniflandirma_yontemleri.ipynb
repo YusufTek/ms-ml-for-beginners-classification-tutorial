{
 "cells": [
  {
   "cell_type": "markdown",
   "id": "10b6c832",
   "metadata": {},
   "source": [
    "# Sınıflandırma Metrikleri\n",
    "\n",
    "Son notebook'ta hastaların diyabetli olup olmadığını tahmin etmek için ikili bir sınıflandırıcı kullandık. Modelin ne kadar iyi performans gösterdiğinin bir ölçüsü olarak *doğruluk* (accuracy) metriğini kullandık - yani kaç vakanın doğru tahmin edildiğinin oranını. Ancak doğruluk her şey değildir. Bu notebook'ta, makine öğrenmesinde çok daha yararlı olabilecek doğruluğa alternatif metriklere bakacağız.\n",
    "\n",
    "## İkili sınıflandırıcılar için alternatif metrikler\n",
    "\n",
    "Doğruluk değerlendirmek için mantıklı bir metrik gibi görünüyor (ve bir dereceye kadar öyle de), ancak bir sınıflandırıcının doğruluğundan çok fazla sonuç çıkarma konusunda dikkatli olmanız gerekiyor. Diyelim ki nüfusun sadece %3'ü diyabetli. Her zaman 0 tahmin eden bir sınıflandırıcı oluşturabilirsiniz ve bu %97 doğru olur - ama diyabetli hastaları belirlemede pek yardımcı olmaz!\n",
    "\n",
    "Neyse ki, modelimizin nasıl performans gösterdiği hakkında daha fazla bilgi veren başka metrikler var. Scikit-Learn, ham doğruluktan daha fazla içgörü sağlayan bir *sınıflandırma raporu* (classification report) oluşturma yeteneğini içerir.\n",
    "\n",
    "Başlamak için, verilerimizi yüklemek ve modelimizi geçen seferki gibi eğitmek için bir sonraki hücreyi çalıştırın."
   ]
  },
  {
   "cell_type": "code",
   "execution_count": 14,
   "id": "a5136c75",
   "metadata": {},
   "outputs": [
    {
     "name": "stdout",
     "output_type": "stream",
     "text": [
      "Training cases: 10500\n",
      " Testing cases: 4500\n",
      "Predicted labels: [0 0 0 ... 0 1 0]\n",
      "Actual labels: [0 0 1 ... 1 1 1]\n",
      "Accuracy: 0.7893333333333333\n"
     ]
    }
   ],
   "source": [
    "# pandas ve matplotlib kütüphanelerini ekle\n",
    "import pandas as pd\n",
    "import matplotlib.pyplot as plt\n",
    "# Jupyter içinde grafiklerin gösterilmesi için\n",
    "%matplotlib inline\n",
    "\n",
    "# sklearn'den veri ayırma ve doğruluk ölçümü fonksiyonlarını al\n",
    "from sklearn.model_selection import train_test_split\n",
    "from sklearn.metrics import accuracy_score\n",
    "\n",
    "# Veriyi csv dosyasından oku\n",
    "diabetes = pd.read_csv('diabetes.csv')\n",
    "\n",
    "# Kullanacağımız özellikler ve hedef değişkeni belirle\n",
    "features = ['Pregnancies', 'PlasmaGlucose', 'DiastolicBloodPressure', \n",
    "            'TricepsThickness', 'SerumInsulin', 'BMI', 'DiabetesPedigree', 'Age']\n",
    "label = 'Diabetic'\n",
    "\n",
    "# Özellikleri (X) ve hedefi (y) ayır\n",
    "X, y = diabetes[features].values, diabetes[label].values\n",
    "\n",
    "# Veriyi eğitim (%70) ve test (%30) olarak ayır\n",
    "X_train, X_test, y_train, y_test = train_test_split(X, y, test_size=0.3, random_state=0)\n",
    "\n",
    "# Eğitim ve test veri sayısını yazdır\n",
    "print(f\"Training cases: {X_train.shape[0]}\\n Testing cases: {X_test.shape[0]}\")\n",
    "\n",
    "# Lojistik regresyon modelini al\n",
    "from sklearn.linear_model import LogisticRegression\n",
    "\n",
    "# Regülerizasyon parametresi (küçük değer → güçlü regülerizasyon)\n",
    "reg = 0.01\n",
    "\n",
    "# Modeli oluştur ve eğit\n",
    "model = LogisticRegression(C=1/reg, solver=\"liblinear\").fit(X_train, y_train)\n",
    "\n",
    "# Test verisi için tahmin yap\n",
    "pred = model.predict(X_test)\n",
    "\n",
    "# Tahmin edilen ve gerçek etiketleri yazdır\n",
    "print(f\"Predicted labels: {pred}\")\n",
    "print(f\"Actual labels: {y_test}\")\n",
    "\n",
    "# Modelin doğruluk oranını hesapla ve yazdır\n",
    "print(f\"Accuracy: {accuracy_score(y_test, pred)}\")"
   ]
  },
  {
   "cell_type": "markdown",
   "id": "eb961351",
   "metadata": {},
   "source": [
    "Başlangıç için en basit yerlerden biri sınıflandırma raporudur. Modelimizi değerlendirmenin bir dizi alternatif yolunu görmek için bir sonraki hücreyi çalıştırın."
   ]
  },
  {
   "cell_type": "code",
   "execution_count": 15,
   "id": "44d83feb",
   "metadata": {},
   "outputs": [
    {
     "name": "stdout",
     "output_type": "stream",
     "text": [
      "              precision    recall  f1-score   support\n",
      "\n",
      "           0       0.81      0.88      0.85      2986\n",
      "           1       0.72      0.60      0.66      1514\n",
      "\n",
      "    accuracy                           0.79      4500\n",
      "   macro avg       0.77      0.74      0.75      4500\n",
      "weighted avg       0.78      0.79      0.78      4500\n",
      "\n"
     ]
    }
   ],
   "source": [
    "# sklearn'den sınıflandırma raporu fonksiyonunu alıyoruz\n",
    "from sklearn.metrics import classification_report\n",
    "\n",
    "# Test sonuçlarını değerlendirip detaylı raporu yazdırıyoruz\n",
    "# Rapor; precision, recall, f1-score ve destek (support) gibi metrikleri içerir\n",
    "print(classification_report(y_test, pred))"
   ]
  },
  {
   "cell_type": "markdown",
   "id": "0a4a1e22",
   "metadata": {},
   "source": [
    "Sınıflandırma raporu her sınıf (0 ve 1) için aşağıdaki metrikleri içerir:\n",
    "\n",
    "> Not: Başlık satırı değerlerle hizalanmayabilir.\n",
    "\n",
    "* *Kesinlik (Precision)*: Modelin bu sınıf için yaptığı tahminlerin ne kadarı doğruydu?\n",
    "* *Duyarlılık (Recall)*: Test veri setindeki bu sınıfın tüm örneklerinden, model kaç tanesini tanımlayabildi?\n",
    "* *F1-Skoru*: Hem kesinlik hem de duyarlılığı hesaba katan ortalama bir metrik.\n",
    "* *Destek (Support)*: Test veri setinde bu sınıftan kaç örnek var?\n",
    "\n",
    "Sınıflandırma raporu ayrıca bu metrikler için ortalamalar içerir, bunlar arasında her sınıftaki vaka sayısındaki dengesizliği hesaba katan ağırlıklı ortalama da vardır.\n",
    "\n",
    "Bu *ikili* bir sınıflandırma problemi olduğu için, ***1*** sınıfı *pozitif* olarak kabul edilir ve onun kesinlik ve duyarlılık değerleri özellikle ilginçtir - bunlar aslında şu soruları yanıtlar:\n",
    "\n",
    "- Modelin diyabetli olduğunu tahmin ettiği tüm hastalardan kaç tanesi gerçekten diyabetli?\n",
    "- Gerçekten diyabetli olan tüm hastalardan, model kaç tanesini tanımlayabildi?\n",
    "\n",
    "Bu değerleri Scikit-Learn'deki **precision_score** ve **recall_score** metriklerini kullanarak tek başlarına alabilirsiniz (bunlar varsayılan olarak ikili sınıflandırma modeli varsayar)."
   ]
  },
  {
   "cell_type": "code",
   "execution_count": 16,
   "id": "e492dff8",
   "metadata": {},
   "outputs": [
    {
     "name": "stdout",
     "output_type": "stream",
     "text": [
      "Overall Precision: 0.7242472266244057\n",
      "Overall Recall: 0.6036988110964333\n"
     ]
    }
   ],
   "source": [
    "# sklearn'den precision ve recall hesaplama fonksiyonlarını alıyoruz\n",
    "from sklearn.metrics import precision_score, recall_score\n",
    "\n",
    "# Modelin genel precision (kesinlik) skorunu yazdırıyoruz\n",
    "print(f\"Overall Precision: {precision_score(y_test, pred)}\")\n",
    "\n",
    "# Modelin genel recall (duyarlılık) skorunu yazdırıyoruz\n",
    "print(f\"Overall Recall: {recall_score(y_test, pred)}\")"
   ]
  },
  {
   "cell_type": "markdown",
   "id": "837a017d",
   "metadata": {},
   "source": [
    "Kesinlik ve duyarlılık metrikleri dört olası tahmin sonucundan türetilir:\n",
    "* *Gerçek Pozitifler (True Positives)*: Tahmin edilen etiket ve gerçek etiket her ikisi de 1'dir.\n",
    "* *Yanlış Pozitifler (False Positives)*: Tahmin edilen etiket 1'dir, ancak gerçek etiket 0'dır.\n",
    "* *Yanlış Negatifler (False Negatives)*: Tahmin edilen etiket 0'dır, ancak gerçek etiket 1'dir.\n",
    "* *Gerçek Negatifler (True Negatives)*: Tahmin edilen etiket ve gerçek etiket her ikisi de 0'dır.\n",
    "\n",
    "Bu metrikler genellikle test seti için tablolaştırılır ve bir *karışıklık matrisi (confusion matrix)* olarak birlikte gösterilir, bu matris aşağıdaki formu alır:\n",
    "\n",
    "<table style=\"border: 1px solid black;\">\n",
    "    <tr style=\"border: 1px solid black;\">\n",
    "        <td style=\"border: 1px solid black;color: black;\" bgcolor=\"lightgray\">TN</td><td style=\"border: 1px solid black;color: black;\" bgcolor=\"white\">FP</td>\n",
    "    </tr>\n",
    "    <tr style=\"border: 1px solid black;\">\n",
    "        <td style=\"border: 1px solid black;color: black;\" bgcolor=\"white\">FN</td><td style=\"border: 1px solid black;color: black;\" bgcolor=\"lightgray\">TP</td>\n",
    "    </tr>\n",
    "</table>\n",
    "\n",
    "Doğru (*gerçek*) tahminlerin sol üstten sağ alta bir köşegen çizgi oluşturduğuna dikkat edin - eğer model iyi ise bu rakamlar *yanlış* tahminlerden önemli ölçüde yüksek olmalıdır.\n",
    "\n",
    "Python'da, eğitilmiş bir sınıflandırıcı için bu değerleri bulmak için **sklearn.metrics.confusion_matrix** fonksiyonunu kullanabilirsiniz:"
   ]
  },
  {
   "cell_type": "code",
   "execution_count": 17,
   "id": "b260e0b0",
   "metadata": {},
   "outputs": [
    {
     "name": "stdout",
     "output_type": "stream",
     "text": [
      "[[2638  348]\n",
      " [ 600  914]]\n"
     ]
    }
   ],
   "source": [
    "# sklearn'den karmaşıklık matrisi (confusion matrix) fonksiyonunu alıyoruz\n",
    "from sklearn.metrics import confusion_matrix\n",
    "\n",
    "# Gerçek ve tahmin edilen değerlerden karmaşıklık matrisini oluştur\n",
    "cm = confusion_matrix(y_test, pred)\n",
    "\n",
    "# Matrisi yazdır\n",
    "print(cm)"
   ]
  },
  {
   "cell_type": "markdown",
   "id": "92cd5472",
   "metadata": {},
   "source": [
    "Şimdiye kadar, modelden gelen tahminleri 1 veya 0 sınıf etiketleri olarak düşündük. Aslında, işler bundan biraz daha karmaşıktır. Lojistik regresyon gibi istatistiksel makine öğrenmesi algoritmaları *olasılık* tabanlıdır. İkili bir sınıflandırıcı tarafından gerçekte tahmin edilen şey, etiketin doğru olma olasılığı (**P(y)**) ve etiketin yanlış olma olasılığıdır (1 - **P(y)**). Tahmin edilen etiketin 1 (*P(y) > 0.5*) veya 0 (*P(y) <= 0.5*) olup olmadığına karar vermek için 0.5'lik bir eşik değeri kullanılır. Her durum için olasılık çiftlerini görmek için **predict_proba** metodunu kullanabilirsiniz:"
   ]
  },
  {
   "cell_type": "code",
   "execution_count": 18,
   "id": "cc815513",
   "metadata": {},
   "outputs": [
    {
     "name": "stdout",
     "output_type": "stream",
     "text": [
      "[[0.81638711 0.18361289]\n",
      " [0.9626324  0.0373676 ]\n",
      " [0.80788517 0.19211483]\n",
      " ...\n",
      " [0.60701542 0.39298458]\n",
      " [0.10824186 0.89175814]\n",
      " [0.64005524 0.35994476]]\n"
     ]
    }
   ],
   "source": [
    "# Modelin test verisi için her sınıfa ait olma olasılıklarını tahmin et\n",
    "y_scores = model.predict_proba(X_test)\n",
    "\n",
    "# Olasılıkları yazdır\n",
    "print(y_scores)"
   ]
  },
  {
   "cell_type": "markdown",
   "id": "ca5c6a49",
   "metadata": {},
   "source": [
    "Bir tahmini 1 veya 0 olarak puanlama kararı, tahmin edilen olasılıkların karşılaştırıldığı eşik değerine bağlıdır. Eğer eşik değerini değiştirirsek, bu tahminleri etkiler; ve dolayısıyla karışıklık matrisindeki metrikleri değiştirir. Bir sınıflandırıcıyı değerlendirmenin yaygın bir yolu, olası eşik değerleri aralığı için *gerçek pozitif oranını* (duyarlılığın başka bir adıdır) ve *yanlış pozitif oranını* incelemektir. Bu oranlar daha sonra tüm olası eşik değerlerine karşı çizilerek *alıcı işletim karakteristiği (ROC)* grafiği olarak bilinen bir grafik oluşturulur, şöyle:"
   ]
  },
  {
   "cell_type": "code",
   "execution_count": 19,
   "id": "1bc2e651",
   "metadata": {},
   "outputs": [
    {
     "data": {
      "image/png": "[encoded data removed]",
      "text/plain": [
       "<Figure size 600x600 with 1 Axes>"
      ]
     },
     "metadata": {},
     "output_type": "display_data"
    }
   ],
   "source": [
    "# ROC eğrisi ve karışıklık matrisi için gerekli fonksiyonları alıyoruz\n",
    "from sklearn.metrics import roc_curve\n",
    "from sklearn.metrics import confusion_matrix\n",
    "\n",
    "# Grafik çizimi için matplotlib kütüphanesini ekle\n",
    "import matplotlib\n",
    "import matplotlib.pyplot as plt\n",
    "\n",
    "# Jupyter defterinde grafikleri anında göster\n",
    "%matplotlib inline\n",
    "\n",
    "# ROC eğrisi için false positive rate (fpr), true positive rate (tpr) ve eşik değerlerini hesapla\n",
    "# y_scores[:, 1] → pozitif sınıfın olasılık skorları (1. sınıfa ait olma ihtimali)\n",
    "fpr, tpr, thresholds = roc_curve(y_test, y_scores[:, 1])\n",
    "\n",
    "# Grafik boyutunu ayarla\n",
    "fig = plt.figure(figsize=(6, 6))\n",
    "\n",
    "# Rastgele tahmin çizgisi (referans için), kesikli siyah çizgi\n",
    "plt.plot([0, 1], [0, 1], 'k--')\n",
    "\n",
    "# ROC eğrisini çiz (fpr x ekseni, tpr y ekseni)\n",
    "plt.plot(fpr, tpr)\n",
    "\n",
    "# Grafik etiketleri\n",
    "plt.xlabel('False Positive Rate')  # Yanlış pozitif oranı\n",
    "plt.ylabel('True Positive Rate')   # Doğru pozitif oranı (recall)\n",
    "\n",
    "# Grafik başlığı\n",
    "plt.title('ROC Curve')\n",
    "\n",
    "# Grafiği göster\n",
    "plt.show()"
   ]
  },
  {
   "cell_type": "markdown",
   "id": "a0eff329",
   "metadata": {},
   "source": [
    "ROC grafiği, 0 ile 1 arasındaki farklı eşik (threshold) değerleri için **doğru pozitif oranı (True Positive Rate)** ile **yanlış pozitif oranı (False Positive Rate)** arasındaki eğriyi gösterir. Mükemmel bir sınıflandırıcı, grafikte sol kenardan dik bir şekilde yukarı çıkan ve ardından üst kenardan düz bir şekilde sağa giden bir eğriye sahip olurdu.\n",
    "\n",
    "Grafiğin köşegen çizgisi (diyagonal) ise tamamen rastgele, yani %50/50 tahmin yapan bir modelin doğruluk oranını temsil eder — eğriniz bu çizginin üzerinde olmalıdır; aksi takdirde modeliniz sadece tahmin yürütmekten daha iyi değildir!\n",
    "\n",
    "Eğrinin altındaki alan (*AUC - Area Under the Curve*), modelin genel başarımını sayısal olarak ifade eden 0 ile 1 arasında bir değerdir. Bu değer 1'e ne kadar yakınsa, model o kadar iyidir. Scikit-Learn bu metriği hesaplamak için **roc_auc_score** adlı bir fonksiyon sağlar.\n"
   ]
  },
  {
   "cell_type": "code",
   "execution_count": 20,
   "id": "9c7d3b53",
   "metadata": {},
   "outputs": [
    {
     "name": "stdout",
     "output_type": "stream",
     "text": [
      "AUC: 0.8568639560573738\n"
     ]
    }
   ],
   "source": [
    "# ROC eğrisi altında kalan alanı (AUC) hesaplamak için fonksiyonu alıyoruz\n",
    "from sklearn.metrics import roc_auc_score\n",
    "\n",
    "# Pozitif sınıfa ait olma olasılıkları kullanılarak AUC hesaplanır\n",
    "auc = roc_auc_score(y_test, y_scores[:, 1])\n",
    "\n",
    "# AUC değerini yazdır\n",
    "print(f\"AUC: {auc}\")"
   ]
  },
  {
   "cell_type": "markdown",
   "id": "9d9a96ba",
   "metadata": {},
   "source": [
    "### Bir Pipeline İçinde Ön İşleme (Preprocessing) Uygulama\n",
    "\n",
    "Bu durumda, ROC eğrisi ve AUC değeri, modelin rastgele tahminden daha iyi performans gösterdiğini ortaya koyuyor — bu da fena değil, çünkü veriye çok az ön işleme uyguladık.\n",
    "\n",
    "Gerçek dünyada ise, algoritmanın veriye daha iyi uyum sağlayabilmesi için genellikle bazı ön işleme (preprocessing) adımları uygulanır. Modellemeye hazır bir veri elde etmek için uygulanabilecek çok sayıda dönüşüm işlemi vardır; ancak biz burada birkaç yaygın tekniğe odaklanacağız:\n",
    "\n",
    "- **Sayısal özellikleri aynı ölçeğe getirmek (scaling):** Bu, büyük değere sahip özelliklerin tahminleri orantısız şekilde etkilemesini önler.\n",
    "- **Kategorik değişkenleri dönüştürmek (encoding):** Örneğin, *one-hot encoding* tekniği kullanılarak her bir kategori değeri için ayrı ayrı ikili (doğru/yanlış) özellikler oluşturulabilir.\n",
    "\n",
    "Bu ön işleme dönüşümlerini uygulamak için, Scikit-Learn'deki *pipeline* özelliğinden faydalanacağız. Pipelines (işlem hatları), bir dizi ön işleme adımını ve son adımda bir algoritmayı tanımlamamıza olanak tanır. Daha sonra bu pipeline’ı doğrudan veriye uygulayabiliriz; böylece model, tüm ön işleme adımlarını ve sınıflandırma algoritmasını kapsayan bir yapı haline gelir.\n",
    "\n",
    "Bu oldukça faydalıdır çünkü modelimizi daha sonra yeni veriler üzerinde kullanmak istediğimizde, eğitim verisiyle kullanılan aynı istatistiksel dönüşümler ve aynı kategori kodlamaları ile veriyi dönüştürmemiz gerekir.\n",
    "\n",
    "> **Not:** *Pipeline* terimi makine öğrenmesinde çok sık kullanılır ve farklı bağlamlarda farklı anlamlara gelebilir. Bu bağlamda, Scikit-Learn kütüphanesindeki `pipeline` nesnelerini ifade ediyoruz.\n"
   ]
  },
  {
   "cell_type": "code",
   "execution_count": 21,
   "id": "e48f725f",
   "metadata": {},
   "outputs": [
    {
     "name": "stdout",
     "output_type": "stream",
     "text": [
      "Pipeline(steps=[('preprocessor',\n",
      "                 ColumnTransformer(transformers=[('num',\n",
      "                                                  Pipeline(steps=[('scaler',\n",
      "                                                                   StandardScaler())]),\n",
      "                                                  [0, 1, 2, 3, 4, 5, 6]),\n",
      "                                                 ('cat',\n",
      "                                                  Pipeline(steps=[('onehot',\n",
      "                                                                   OneHotEncoder(handle_unknown='ignore'))]),\n",
      "                                                  [7])])),\n",
      "                ('classifier',\n",
      "                 LogisticRegression(C=100.0, solver='liblinear'))])\n"
     ]
    }
   ],
   "source": [
    "# Veriyi dönüştürmek ve modeli birleştirmek için gereken sklearn modülleri\n",
    "from sklearn.compose import ColumnTransformer\n",
    "from sklearn.pipeline import Pipeline\n",
    "from sklearn.preprocessing import StandardScaler, OneHotEncoder\n",
    "from sklearn.linear_model import LogisticRegression\n",
    "import numpy as np\n",
    "\n",
    "# Sayısal özelliklerin indeksleri (0-6)\n",
    "numeric_features = [0, 1, 2, 3, 4, 5, 6]\n",
    "\n",
    "# Sayısal veriyi standartlaştırmak için pipeline oluşturduk\n",
    "# StandardScaler → veriyi ortalaması 0, standart sapması 1 olacak şekilde dönüştürür\n",
    "numeric_transformer = Pipeline(steps=[\n",
    "    ('scaler', StandardScaler())])\n",
    "\n",
    "# Kategorik özelliğin indeksi (7)\n",
    "categorical_features = [7]\n",
    "\n",
    "# Kategorik veriyi OneHotEncoder ile dönüştürme pipeline'ı\n",
    "# handle_unknown='ignore' bilinmeyen kategorileri yok sayar\n",
    "categorical_transformer = Pipeline(steps=[\n",
    "    ('onehot', OneHotEncoder(handle_unknown='ignore'))])\n",
    "\n",
    "# Sayısal ve kategorik dönüşümleri bir araya getiren ColumnTransformer\n",
    "# 'num' kısmı sayısal sütunları, 'cat' kısmı kategorik sütunları işler\n",
    "preprocessor = ColumnTransformer(\n",
    "    transformers=[\n",
    "        ('num', numeric_transformer, numeric_features),\n",
    "        ('cat', categorical_transformer, categorical_features)])\n",
    "\n",
    "# Tüm işlemi birleştiren pipeline:\n",
    "# önce veriyi dönüştür, sonra lojistik regresyonla sınıflandır\n",
    "pipeline = Pipeline(steps=[\n",
    "    ('preprocessor', preprocessor),\n",
    "    ('classifier', LogisticRegression(C=1/reg, solver=\"liblinear\"))])\n",
    "\n",
    "# Modeli eğitim verisi ile eğit\n",
    "model = pipeline.fit(X_train, y_train)\n",
    "\n",
    "# Eğitilmiş modeli yazdır (özet bilgi verir)\n",
    "print(model)"
   ]
  },
  {
   "cell_type": "markdown",
   "id": "dfc948e2",
   "metadata": {},
   "source": [
    "Bu pipeline (işlem hattı), ön işleme adımlarını ve model eğitimini tek bir yapı içinde kapsar.\n",
    "\n",
    "Şimdi, bu pipeline tarafından eğitilen modeli kullanarak test veri kümesindeki etiketleri tahmin edelim ve bu modelin başarı metriklerini, önceki adımlarda oluşturduğumuz temel model ile karşılaştıralım.\n"
   ]
  },
  {
   "cell_type": "code",
   "execution_count": 22,
   "id": "4efa9053",
   "metadata": {},
   "outputs": [
    {
     "name": "stdout",
     "output_type": "stream",
     "text": [
      "Confusion Matrix:\n",
      "[[2667  319]\n",
      " [ 406 1108]]\n",
      "\n",
      "Accuracy: 0.8388888888888889\n",
      "\n",
      "Overall Precision: 0.7764540995094604\n",
      "\n",
      "Overall Recall: 0.7318361955085865\n",
      "\n",
      "AUC: 0.9202433903349936\n"
     ]
    },
    {
     "data": {
      "image/png": "[encoded data removed]",
      "text/plain": [
       "<Figure size 600x600 with 1 Axes>"
      ]
     },
     "metadata": {},
     "output_type": "display_data"
    }
   ],
   "source": [
    "# Test verisi için sınıf tahminleri yap\n",
    "pred = model.predict(X_test)\n",
    "\n",
    "# Test verisi için sınıfa ait olma olasılıklarını tahmin et\n",
    "y_scores = model.predict_proba(X_test)\n",
    "\n",
    "# Karmaşıklık matrisini hesapla (gerçek vs tahmin)\n",
    "cm = confusion_matrix(y_test, pred)\n",
    "\n",
    "# Karmaşıklık matrisini yazdır\n",
    "print(f\"Confusion Matrix:\\n{cm}\\n\")\n",
    "\n",
    "# Doğruluk oranını hesapla ve yazdır\n",
    "print(f\"Accuracy: {accuracy_score(y_test, pred)}\\n\")\n",
    "\n",
    "# Kesinlik (precision) skorunu hesapla ve yazdır\n",
    "print(f\"Overall Precision: {precision_score(y_test, pred)}\\n\")\n",
    "\n",
    "# Duyarlılık (recall) skorunu hesapla ve yazdır\n",
    "print(f\"Overall Recall: {recall_score(y_test, pred)}\\n\")\n",
    "\n",
    "# ROC eğrisi altındaki alanı (AUC) hesapla ve yazdır\n",
    "auc = roc_auc_score(y_test, y_scores[:, 1])\n",
    "print(f\"AUC: {auc}\")\n",
    "\n",
    "# ROC eğrisi için yanlış pozitif oranı (fpr), doğru pozitif oranı (tpr) ve eşik değerlerini hesapla\n",
    "fpr, tpr, thresholds = roc_curve(y_test, y_scores[:, 1])\n",
    "\n",
    "# Grafik boyutunu ayarla\n",
    "fig = plt.figure(figsize=(6, 6))\n",
    "\n",
    "# Rastgele tahmin için referans çizgisi (kesişen çizgi)\n",
    "plt.plot([0, 1], [0, 1], 'k--')\n",
    "\n",
    "# ROC eğrisini çiz\n",
    "plt.plot(fpr, tpr)\n",
    "\n",
    "# Grafik etiketleri\n",
    "plt.xlabel('False Positive Rate')\n",
    "plt.ylabel('True Positive Rate')\n",
    "\n",
    "# Grafik başlığı\n",
    "plt.title('ROC Curve')\n",
    "\n",
    "# Grafik göster\n",
    "plt.show()"
   ]
  },
  {
   "cell_type": "markdown",
   "id": "e942fdfd",
   "metadata": {},
   "source": [
    "Sonuçlar biraz daha iyi görünüyor, yani veriye ön işleme uygulamamızın gerçekten bir fark yarattığı açık.\n",
    "\n",
    "### Farklı Bir Algoritma Deneyelim (Try a Different Algorithm)\n",
    "\n",
    "Şimdi farklı bir algoritma deneyelim. Daha önce *lojistik regresyon* algoritmasını kullanmıştık, bu bir *lineer* (doğrusal) algoritmadır. Deneyebileceğimiz birçok sınıflandırma algoritması vardır, örneğin:\n",
    "\n",
    "- **Destek Vektör Makineleri (Support Vector Machine - SVM) algoritmaları**: Sınıfları ayıran bir *hiperdüzlem (hyperplane)* tanımlarlar.\n",
    "- **Ağaç tabanlı algoritmalar**: Tahminlere ulaşmak için karar ağacı (decision tree) oluştururlar.\n",
    "- **Topluluk (ensemble) algoritmaları**: Birden çok temel algoritmanın çıktısını birleştirerek genellenebilirliği artırırlar.\n",
    "\n",
    "Bu sefer, öncekiyle aynı ön işleme adımlarını kullanacağız; fakat modeli *Random Forest* adlı bir *ensemble (topluluk)* algoritması ile eğiteceğiz. Bu algoritma, birden çok rastgele karar ağacının çıktısını birleştirir. Daha fazla bilgi için [Scikit-Learn belgelerine](https://scikit-learn.org/stable/modules/ensemble.html#forests-of-randomized-trees) göz atabilirsiniz.\n"
   ]
  },
  {
   "cell_type": "code",
   "execution_count": 23,
   "id": "7c8beff4",
   "metadata": {},
   "outputs": [
    {
     "name": "stdout",
     "output_type": "stream",
     "text": [
      "Pipeline(steps=[('preprocessor',\n",
      "                 ColumnTransformer(transformers=[('num',\n",
      "                                                  Pipeline(steps=[('scaler',\n",
      "                                                                   StandardScaler())]),\n",
      "                                                  [0, 1, 2, 3, 4, 5, 6]),\n",
      "                                                 ('cat',\n",
      "                                                  Pipeline(steps=[('onehot',\n",
      "                                                                   OneHotEncoder(handle_unknown='ignore'))]),\n",
      "                                                  [7])])),\n",
      "                ('classifier', RandomForestClassifier(random_state=0))])\n"
     ]
    }
   ],
   "source": [
    "# Rastgele Orman sınıflandırıcısını sklearn'den alıyoruz\n",
    "from sklearn.ensemble import RandomForestClassifier\n",
    "\n",
    "# Pipeline oluşturuyoruz:\n",
    "# Önce veriyi ön işleme (sayısal/kategorik dönüşüm) tabi tut\n",
    "# Sonra RandomForestClassifier ile sınıflandırma yap\n",
    "pipeline = Pipeline(steps=[\n",
    "    ('preprocessor', preprocessor),\n",
    "    ('classifier', RandomForestClassifier(n_estimators=100, random_state=0))])\n",
    "\n",
    "# Modeli eğitim verisi ile eğit\n",
    "model = pipeline.fit(X_train, y_train)\n",
    "\n",
    "# Model bilgisini yazdır\n",
    "print(model)"
   ]
  },
  {
   "cell_type": "markdown",
   "id": "7b59c85c",
   "metadata": {},
   "source": [
    "Şimdi, yeni modelin performans metriklerine bakalım.\n"
   ]
  },
  {
   "cell_type": "code",
   "execution_count": 24,
   "id": "ce75acd5",
   "metadata": {},
   "outputs": [
    {
     "name": "stdout",
     "output_type": "stream",
     "text": [
      "Confusion Matrix:\n",
      "[[2856  130]\n",
      " [ 170 1344]]\n",
      "\n",
      "Accuracy: 0.9333333333333333\n",
      "\n",
      "Overall Precision: 0.9118046132971506\n",
      "\n",
      "Overall Recall: 0.8877146631439894\n",
      "\n",
      "AUC: 0.9823873142918826\n"
     ]
    },
    {
     "data": {
      "image/png": "[encoded data removed]",
      "text/plain": [
       "<Figure size 600x600 with 1 Axes>"
      ]
     },
     "metadata": {},
     "output_type": "display_data"
    }
   ],
   "source": [
    "# Test verisi için sınıf tahminleri yap\n",
    "pred = model.predict(X_test)\n",
    "\n",
    "# Test verisi için sınıfa ait olma olasılıklarını tahmin et\n",
    "y_scores = model.predict_proba(X_test)\n",
    "\n",
    "# Gerçek ve tahmin edilen değerlerden karmaşıklık matrisini oluştur\n",
    "cm = confusion_matrix(y_test, pred)\n",
    "\n",
    "# Karmaşıklık matrisini yazdır\n",
    "print(f\"Confusion Matrix:\\n{cm}\\n\")\n",
    "\n",
    "# Doğruluk oranını hesapla ve yazdır\n",
    "print(f\"Accuracy: {accuracy_score(y_test, pred)}\\n\")\n",
    "\n",
    "# Kesinlik (precision) skorunu hesapla ve yazdır\n",
    "print(f\"Overall Precision: {precision_score(y_test, pred)}\\n\")\n",
    "\n",
    "# Duyarlılık (recall) skorunu hesapla ve yazdır\n",
    "print(f\"Overall Recall: {recall_score(y_test, pred)}\\n\")\n",
    "\n",
    "# ROC eğrisi altındaki alanı (AUC) hesapla ve yazdır\n",
    "auc = roc_auc_score(y_test, y_scores[:, 1])\n",
    "print(f\"AUC: {auc}\")\n",
    "\n",
    "# ROC eğrisi için false positive rate (fpr), true positive rate (tpr) ve eşik değerlerini hesapla\n",
    "fpr, tpr, thresholds = roc_curve(y_test, y_scores[:, 1])\n",
    "\n",
    "# Grafik boyutunu ayarla\n",
    "fig = plt.figure(figsize=(6, 6))\n",
    "\n",
    "# Rastgele tahmin için referans çizgisi (kesişen çizgi)\n",
    "plt.plot([0, 1], [0, 1], 'k--')\n",
    "\n",
    "# ROC eğrisini çiz (fpr x ekseninde, tpr y ekseninde)\n",
    "plt.plot(fpr, tpr)\n",
    "\n",
    "# Grafik etiketleri\n",
    "plt.xlabel('False Positive Rate')\n",
    "plt.ylabel('True Positive Rate')\n",
    "\n",
    "# Grafik başlığı\n",
    "plt.title('ROC Curve')\n",
    "\n",
    "# Grafiği göster\n",
    "plt.show()"
   ]
  },
  {
   "cell_type": "markdown",
   "id": "56deb2a6",
   "metadata": {},
   "source": [
    "Bu daha iyi görünüyor!\n",
    "\n",
    "### Modeli Çıkarım (Inferencing) İçin Kullanmak\n",
    "Artık elimizde oldukça işe yarar, eğitilmiş bir model olduğuna göre, bu modeli daha sonra yeni veriler için etiket tahmini yapmak amacıyla kaydedebiliriz.\n"
   ]
  },
  {
   "cell_type": "code",
   "execution_count": 25,
   "id": "0584fc19",
   "metadata": {},
   "outputs": [
    {
     "data": {
      "text/plain": [
       "['diabetes_model.pkl']"
      ]
     },
     "execution_count": 25,
     "metadata": {},
     "output_type": "execute_result"
    }
   ],
   "source": [
    "# joblib kütüphanesi modeli dosyaya kaydetmek için kullanılır\n",
    "import joblib\n",
    "\n",
    "# Modeli 'diabetes_model.pkl' adlı dosyaya kaydet\n",
    "filename = 'diabetes_model.pkl'\n",
    "joblib.dump(model, filename)"
   ]
  },
  {
   "cell_type": "markdown",
   "id": "1f412766",
   "metadata": {},
   "source": [
    "Yeni ve etiketleri bilinmeyen bazı gözlemlerimiz olduğunda, daha önce kaydettiğimiz modelimizi yükleyebilir ve bu yeni veriler için etiket tahminleri yapmak amacıyla kullanabiliriz.\n"
   ]
  },
  {
   "cell_type": "code",
   "execution_count": 26,
   "id": "7356bd72",
   "metadata": {},
   "outputs": [
    {
     "name": "stdout",
     "output_type": "stream",
     "text": [
      "Yeni örnek: [np.float64(2.0), np.float64(180.0), np.float64(74.0), np.float64(24.0), np.float64(21.0), np.float64(23.9091702), np.float64(1.488172308), np.float64(22.0)]\n",
      "Tahmin edilen sınıf: 1\n"
     ]
    }
   ],
   "source": [
    "# Dosyadan modeli yükle\n",
    "model = joblib.load(filename)\n",
    "\n",
    "# Yeni bir örnek üzerinde tahmin yap\n",
    "# Model, birden fazla hastanın sınıflarını tek bir çağrıyla tahmin edebilmek için özellik dizilerinden oluşan bir dizi kabul eder\n",
    "# Burada, bir hastayı temsil eden tek bir özellik dizisi içeren bir dizi oluşturacağız\n",
    "X_new = np.array([[2,180,74,24,21,23.9091702,1.488172308,22]])\n",
    "print ('Yeni örnek: {}'.format(list(X_new[0])))\n",
    "\n",
    "# Tahmin al\n",
    "pred = model.predict(X_new)\n",
    "\n",
    "# Model, gönderilen her bir özellik kümesi için bir tahmin döndürür – \n",
    "# Biz yalnızca bir hasta gönderdiğimiz için, tahmin sonucu dizisindeki ilk öğe bizim sonucumuz olacak\n",
    "print('Tahmin edilen sınıf: {}'.format(pred[0]))\n"
   ]
  }
 ],
 "metadata": {
  "kernelspec": {
   "display_name": "venv",
   "language": "python",
   "name": "python3"
  },
  "language_info": {
   "codemirror_mode": {
    "name": "ipython",
    "version": 3
   },
   "file_extension": ".py",
   "mimetype": "text/x-python",
   "name": "python",
   "nbconvert_exporter": "python",
   "pygments_lexer": "ipython3",
   "version": "3.13.5"
  }
 },
 "nbformat": 4,
 "nbformat_minor": 5
}
