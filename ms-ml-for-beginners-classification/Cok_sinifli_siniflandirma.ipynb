{
 "cells": [
  {
   "cell_type": "markdown",
   "id": "24aeaa19",
   "metadata": {},
   "source": [
    "# Çok Sınıflı Sınıflandırma (Multiclass Classification)\n",
    "\n",
    "Son not defterinde, ikili sınıflandırmaya (binary classification) baktık. Bu, verideki gözlemler iki sınıftan birine ait olduğunda iyi çalışır; örneğin \"Doğru\" ya da \"Yanlış\" gibi. Veri iki sınıftan daha fazlasına ayrıldığında, çok sınıflı sınıflandırma algoritması kullanmanız gerekir.\n",
    "\n",
    "Çok sınıflı sınıflandırma, birden çok ikili sınıflandırıcının kombinasyonu olabilir. Bu problemi çözmenin iki yolu vardır:\n",
    "\n",
    "- **Bir'e Karşı Diğerleri (One vs Rest - OVR)**: Her olası sınıf değeri için bir sınıflandırıcı oluşturulur. Bu sınıflandırıcı, tahminin *bu* sınıf olduğu durumlarda pozitif, diğer tüm sınıflar için ise negatif sonuç verir. Örneğin, dört farklı şekil sınıfı (*kare*, *daire*, *üçgen*, *altıgen*) olan bir sınıflandırma problemi için dört sınıflandırıcı gerekir:\n",
    "    - *kare* mi değil mi\n",
    "    - *daire* mi değil mi\n",
    "    - *üçgen* mi değil mi\n",
    "    - *altıgen* mi değil mi\n",
    "    \n",
    "- **Bir'e Karşı Bir (One vs One - OVO)**: Her olası sınıf çifti için bir sınıflandırıcı oluşturulur. Dört şekil sınıfı için gerekli ikili sınıflandırıcılar şunlardır:\n",
    "    - *kare* mi yoksa *daire* mi\n",
    "    - *kare* mi yoksa *üçgen* mi\n",
    "    - *kare* mi yoksa *altıgen* mi\n",
    "    - *daire* mi yoksa *üçgen* mi\n",
    "    - *daire* mi yoksa *altıgen* mi\n",
    "    - *üçgen* mi yoksa *altıgen* mi\n",
    "\n",
    "Her iki yaklaşımda da, sınıflandırıcıları birleştiren genel model, bireysel ikili sınıflandırıcılardan elde edilen olasılıkları kullanarak hangi sınıfın tahmin edileceğine karar veren bir tahmin vektörü oluşturur.\n",
    "\n",
    "Neyse ki, Scikit-Learn dahil olmak üzere çoğu makine öğrenimi framework’ü, çok sınıflı sınıflandırma modelini ikili sınıflandırmadan önemli ölçüde daha karmaşık olmadan uygulamaya imkân verir — ve çoğu durumda ikili sınıflandırma için kullanılan kestiriciler (estimators), OVR algoritmasını, OVO algoritmasını soyutlayarak veya bunlardan birini seçme olanağı sunarak çok sınıflı sınıflandırmayı destekler.\n",
    "\n",
    "> **Daha Fazla Bilgi**: Scikit-Learn’de çok sınıflı sınıflandırma desteği hakkında daha fazla bilgi için [Scikit-Learn dökümantasyonuna](https://scikit-learn.org/stable/modules/multiclass.html) bakabilirsiniz.\n",
    "\n",
    "---\n",
    "\n",
    "### Veriyi Keşfet (Explore the data)\n",
    "\n",
    "Çoklu sınıflara ait gözlemler içeren bir veri kümesini inceleyerek başlayalım. Üç farklı penguen türüne ait gözlemleri içeren bir veri kümesi kullanacağız.\n",
    "\n",
    "> **Kaynak:** Bu egzersizde kullanılan penguen veri kümesi, [Dr. Kristen Gorman](https://www.uaf.edu/cfos/people/faculty/detail/kristen-gorman.php) ve [Palmer Station, Antarctica LTER](https://lternet.edu/site/palmer-antarctica-lter) tarafından toplanan ve [Uzun Vadeli Ekolojik Araştırma Ağı (Long Term Ecological Research Network)](https://lternet.edu) üyesi olan verilerin bir alt kümesidir.\n"
   ]
  },
  {
   "cell_type": "code",
   "execution_count": 181,
   "id": "a9bfd94c",
   "metadata": {},
   "outputs": [
    {
     "data": {
      "text/html": [
       "<div>\n",
       "<style scoped>\n",
       "    .dataframe tbody tr th:only-of-type {\n",
       "        vertical-align: middle;\n",
       "    }\n",
       "\n",
       "    .dataframe tbody tr th {\n",
       "        vertical-align: top;\n",
       "    }\n",
       "\n",
       "    .dataframe thead th {\n",
       "        text-align: right;\n",
       "    }\n",
       "</style>\n",
       "<table border=\"1\" class=\"dataframe\">\n",
       "  <thead>\n",
       "    <tr style=\"text-align: right;\">\n",
       "      <th></th>\n",
       "      <th>CulmenLength</th>\n",
       "      <th>CulmenDepth</th>\n",
       "      <th>FlipperLength</th>\n",
       "      <th>BodyMass</th>\n",
       "      <th>Species</th>\n",
       "    </tr>\n",
       "  </thead>\n",
       "  <tbody>\n",
       "    <tr>\n",
       "      <th>34</th>\n",
       "      <td>36.4</td>\n",
       "      <td>17.0</td>\n",
       "      <td>195.0</td>\n",
       "      <td>3325.0</td>\n",
       "      <td>0</td>\n",
       "    </tr>\n",
       "    <tr>\n",
       "      <th>275</th>\n",
       "      <td>49.9</td>\n",
       "      <td>16.1</td>\n",
       "      <td>213.0</td>\n",
       "      <td>5400.0</td>\n",
       "      <td>1</td>\n",
       "    </tr>\n",
       "    <tr>\n",
       "      <th>245</th>\n",
       "      <td>49.5</td>\n",
       "      <td>16.1</td>\n",
       "      <td>224.0</td>\n",
       "      <td>5650.0</td>\n",
       "      <td>1</td>\n",
       "    </tr>\n",
       "    <tr>\n",
       "      <th>210</th>\n",
       "      <td>43.2</td>\n",
       "      <td>14.5</td>\n",
       "      <td>208.0</td>\n",
       "      <td>4450.0</td>\n",
       "      <td>1</td>\n",
       "    </tr>\n",
       "    <tr>\n",
       "      <th>65</th>\n",
       "      <td>41.6</td>\n",
       "      <td>18.0</td>\n",
       "      <td>192.0</td>\n",
       "      <td>3950.0</td>\n",
       "      <td>0</td>\n",
       "    </tr>\n",
       "    <tr>\n",
       "      <th>238</th>\n",
       "      <td>43.4</td>\n",
       "      <td>14.4</td>\n",
       "      <td>218.0</td>\n",
       "      <td>4600.0</td>\n",
       "      <td>1</td>\n",
       "    </tr>\n",
       "    <tr>\n",
       "      <th>99</th>\n",
       "      <td>43.2</td>\n",
       "      <td>18.5</td>\n",
       "      <td>192.0</td>\n",
       "      <td>4100.0</td>\n",
       "      <td>0</td>\n",
       "    </tr>\n",
       "    <tr>\n",
       "      <th>300</th>\n",
       "      <td>46.7</td>\n",
       "      <td>17.9</td>\n",
       "      <td>195.0</td>\n",
       "      <td>3300.0</td>\n",
       "      <td>2</td>\n",
       "    </tr>\n",
       "    <tr>\n",
       "      <th>298</th>\n",
       "      <td>43.2</td>\n",
       "      <td>16.6</td>\n",
       "      <td>187.0</td>\n",
       "      <td>2900.0</td>\n",
       "      <td>2</td>\n",
       "    </tr>\n",
       "    <tr>\n",
       "      <th>248</th>\n",
       "      <td>49.4</td>\n",
       "      <td>15.8</td>\n",
       "      <td>216.0</td>\n",
       "      <td>4925.0</td>\n",
       "      <td>1</td>\n",
       "    </tr>\n",
       "  </tbody>\n",
       "</table>\n",
       "</div>"
      ],
      "text/plain": [
       "     CulmenLength  CulmenDepth  FlipperLength  BodyMass  Species\n",
       "34           36.4         17.0          195.0    3325.0        0\n",
       "275          49.9         16.1          213.0    5400.0        1\n",
       "245          49.5         16.1          224.0    5650.0        1\n",
       "210          43.2         14.5          208.0    4450.0        1\n",
       "65           41.6         18.0          192.0    3950.0        0\n",
       "238          43.4         14.4          218.0    4600.0        1\n",
       "99           43.2         18.5          192.0    4100.0        0\n",
       "300          46.7         17.9          195.0    3300.0        2\n",
       "298          43.2         16.6          187.0    2900.0        2\n",
       "248          49.4         15.8          216.0    4925.0        1"
      ]
     },
     "execution_count": 181,
     "metadata": {},
     "output_type": "execute_result"
    }
   ],
   "source": [
    "# pandas kütüphanesini ekle\n",
    "import pandas as pd\n",
    "\n",
    "# 'penguins.csv' dosyasını oku ve DataFrame'e yükle\n",
    "penguins = pd.read_csv('penguins.csv')\n",
    "\n",
    "# Veriden rastgele 10 örnek seç\n",
    "sample = penguins.sample(10)\n",
    "\n",
    "# Seçilen örnekleri göster\n",
    "sample"
   ]
  },
  {
   "cell_type": "markdown",
   "id": "fa6713b4",
   "metadata": {},
   "source": [
    "Veri seti aşağıdaki sütunları içerir:\n",
    "\n",
    "* **CulmenLength**: Penguenin gagasının (culmen) uzunluğu, milimetre (mm) cinsinden.\n",
    "* **CulmenDepth**: Penguenin gagasının derinliği, milimetre (mm) cinsinden.\n",
    "* **FlipperLength**: Penguenin yüzgecinin (flipper) uzunluğu, milimetre (mm) cinsinden.\n",
    "* **BodyMass**: Penguenin vücut kütlesi, gram cinsinden.\n",
    "* **Species**: Penguen türünü temsil eden bir tamsayı değeri.\n",
    "\n",
    "**Species** sütunu, modelimizi eğitmek için tahmin etmeye çalışacağımız etikettir. Veri setinde üç farklı penguen türü vardır ve bu türler 0, 1 ve 2 olarak kodlanmıştır. Gerçek tür isimleri aşağıdaki kod ile ortaya çıkarılacaktır:\n"
   ]
  },
  {
   "cell_type": "code",
   "execution_count": 182,
   "id": "db5f478f",
   "metadata": {},
   "outputs": [
    {
     "name": "stdout",
     "output_type": "stream",
     "text": [
      "['CulmenLength' 'CulmenDepth' 'FlipperLength' 'BodyMass' 'Species'] SpeciesName\n",
      "[ 41.3 21.1 195.0 4400.0 0 ] Adelie\n",
      "[ 55.8 19.8 207.0 4000.0 2 ] Chinstrap\n",
      "[ 41.1 18.2 192.0 4050.0 0 ] Adelie\n",
      "[ 45.6 19.4 194.0 3525.0 2 ] Chinstrap\n",
      "[ 42.2 19.5 197.0 4275.0 0 ] Adelie\n",
      "[ 40.2 17.0 176.0 3450.0 0 ] Adelie\n",
      "[ 37.7 18.7 180.0 3600.0 0 ] Adelie\n",
      "[ 39.6 17.7 186.0 3500.0 0 ] Adelie\n",
      "[ 40.5 18.9 180.0 3950.0 0 ] Adelie\n",
      "[ 45.1 14.5 207.0 5050.0 1 ] Gentoo\n"
     ]
    },
    {
     "name": "stderr",
     "output_type": "stream",
     "text": [
      "/var/folders/4f/wvgl49117kq51xm26tw2kxhm0000gn/T/ipykernel_1767/845245061.py:12: FutureWarning: Series.__getitem__ treating keys as positions is deprecated. In a future version, integer keys will always be treated as labels (consistent with DataFrame behavior). To access a value by position, use `ser.iloc[pos]`\n",
      "  print('[', row[0], row[1], row[2], row[3], int(row[4]), ']', penguin_classes[int(row[4])])\n"
     ]
    }
   ],
   "source": [
    "# Penguen türleri listesi (etiketler)\n",
    "penguin_classes = ['Adelie', 'Gentoo', 'Chinstrap']\n",
    "\n",
    "# İlk 5 sütunun isimlerini ve 'SpeciesName' ifadesini yazdır\n",
    "print(sample.columns[0:5].values, 'SpeciesName')\n",
    "\n",
    "# Veri içinden rastgele 10 satır seç, her satırı tek tek işle\n",
    "for index, row in penguins.sample(10).iterrows():\n",
    "    # Satırdaki ilk 5 sütunu ve tür ismini yazdır\n",
    "    # row[0], row[1], row[2], row[3] → sütun değerleri\n",
    "    # row[4] → türü gösteren sayı, int'e çevrilip penguin_classes ile eşleştiriliyor\n",
    "    print('[', row[0], row[1], row[2], row[3], int(row[4]), ']', penguin_classes[int(row[4])])"
   ]
  },
  {
   "cell_type": "markdown",
   "id": "a5208e9a",
   "metadata": {},
   "source": [
    "Artık verideki özelliklerin (features) ve etiketlerin (labels) neyi temsil ettiğini bildiğimize göre, veri setini keşfetmeye başlayalım. \n",
    "\n",
    "İlk olarak, eksik (*null*) değerler olup olmadığını kontrol edelim.\n"
   ]
  },
  {
   "cell_type": "code",
   "execution_count": 183,
   "id": "90275285",
   "metadata": {},
   "outputs": [
    {
     "data": {
      "text/plain": [
       "CulmenLength     2\n",
       "CulmenDepth      2\n",
       "FlipperLength    2\n",
       "BodyMass         2\n",
       "Species          0\n",
       "dtype: int64"
      ]
     },
     "execution_count": 183,
     "metadata": {},
     "output_type": "execute_result"
    }
   ],
   "source": [
    "penguins.isnull().sum()"
   ]
  },
  {
   "cell_type": "markdown",
   "id": "b3d475a8",
   "metadata": {},
   "source": [
    "Görünüşe göre bazı eksik özellik (feature) değerleri var, ancak eksik etiket (label) yok. \n",
    "Biraz daha derine inelim ve *null* (eksik) içeren satırları görelim.\n"
   ]
  },
  {
   "cell_type": "code",
   "execution_count": 184,
   "id": "9b3dfc51",
   "metadata": {},
   "outputs": [
    {
     "data": {
      "text/html": [
       "<div>\n",
       "<style scoped>\n",
       "    .dataframe tbody tr th:only-of-type {\n",
       "        vertical-align: middle;\n",
       "    }\n",
       "\n",
       "    .dataframe tbody tr th {\n",
       "        vertical-align: top;\n",
       "    }\n",
       "\n",
       "    .dataframe thead th {\n",
       "        text-align: right;\n",
       "    }\n",
       "</style>\n",
       "<table border=\"1\" class=\"dataframe\">\n",
       "  <thead>\n",
       "    <tr style=\"text-align: right;\">\n",
       "      <th></th>\n",
       "      <th>CulmenLength</th>\n",
       "      <th>CulmenDepth</th>\n",
       "      <th>FlipperLength</th>\n",
       "      <th>BodyMass</th>\n",
       "      <th>Species</th>\n",
       "    </tr>\n",
       "  </thead>\n",
       "  <tbody>\n",
       "    <tr>\n",
       "      <th>3</th>\n",
       "      <td>NaN</td>\n",
       "      <td>NaN</td>\n",
       "      <td>NaN</td>\n",
       "      <td>NaN</td>\n",
       "      <td>0</td>\n",
       "    </tr>\n",
       "    <tr>\n",
       "      <th>271</th>\n",
       "      <td>NaN</td>\n",
       "      <td>NaN</td>\n",
       "      <td>NaN</td>\n",
       "      <td>NaN</td>\n",
       "      <td>1</td>\n",
       "    </tr>\n",
       "  </tbody>\n",
       "</table>\n",
       "</div>"
      ],
      "text/plain": [
       "     CulmenLength  CulmenDepth  FlipperLength  BodyMass  Species\n",
       "3             NaN          NaN            NaN       NaN        0\n",
       "271           NaN          NaN            NaN       NaN        1"
      ]
     },
     "execution_count": 184,
     "metadata": {},
     "output_type": "execute_result"
    }
   ],
   "source": [
    "penguins[penguins.isnull().any(axis=1)]"
   ]
  },
  {
   "cell_type": "markdown",
   "id": "5979d615",
   "metadata": {},
   "source": [
    "İki satırda hiç özellik (feature) değeri bulunmuyor (*NaN* \"sayı değil\" anlamına gelir), bu nedenle bu satırlar modeli eğitmek için faydalı olmayacaktır. Hadi bu satırları veri kümesinden çıkaralım."
   ]
  },
  {
   "cell_type": "code",
   "execution_count": 185,
   "id": "d254d26e",
   "metadata": {},
   "outputs": [
    {
     "data": {
      "text/plain": [
       "CulmenLength     0\n",
       "CulmenDepth      0\n",
       "FlipperLength    0\n",
       "BodyMass         0\n",
       "Species          0\n",
       "dtype: int64"
      ]
     },
     "execution_count": 185,
     "metadata": {},
     "output_type": "execute_result"
    }
   ],
   "source": [
    "# Eksik verileri (NaN) içeren satırları sil\n",
    "penguins = penguins.dropna()\n",
    "\n",
    "# Her sütundaki eksik değer sayısını kontrol et\n",
    "penguins.isnull().sum()"
   ]
  },
  {
   "cell_type": "markdown",
   "id": "43adb859",
   "metadata": {},
   "source": [
    "Artık eksik değerleri ele aldığımıza göre, kutu grafikleri (box chart) oluşturarak özelliklerin (features) etiketle (label) nasıl bir ilişki kurduğunu inceleyelim.\n"
   ]
  },
  {
   "cell_type": "code",
   "execution_count": 186,
   "id": "bc403017",
   "metadata": {},
   "outputs": [
    {
     "data": {
      "image/png": "[encoded data removed]",
      "text/plain": [
       "<Figure size 600x600 with 1 Axes>"
      ]
     },
     "metadata": {},
     "output_type": "display_data"
    },
    {
     "data": {
      "image/png": "[encoded data removed]",
      "text/plain": [
       "<Figure size 600x600 with 1 Axes>"
      ]
     },
     "metadata": {},
     "output_type": "display_data"
    },
    {
     "data": {
      "image/png": "[encoded data removed]",
      "text/plain": [
       "<Figure size 600x600 with 1 Axes>"
      ]
     },
     "metadata": {},
     "output_type": "display_data"
    },
    {
     "data": {
      "image/png": "[encoded data removed]",
      "text/plain": [
       "<Figure size 600x600 with 1 Axes>"
      ]
     },
     "metadata": {},
     "output_type": "display_data"
    }
   ],
   "source": [
    "# Grafik çizimi için matplotlib kütüphanesini ekle\n",
    "import matplotlib.pyplot as plt\n",
    "\n",
    "# Jupyter içinde grafiklerin görünmesini sağlar\n",
    "%matplotlib inline\n",
    "\n",
    "# Analiz için kullanılacak özellikler\n",
    "penguin_features = ['CulmenLength', 'CulmenDepth', 'FlipperLength', 'BodyMass']\n",
    "\n",
    "# Hedef sütun (tür bilgisi)\n",
    "penguin_label = 'Species'\n",
    "\n",
    "# Her özellik için kutu grafiği çiz, türlere göre grupla\n",
    "for col in penguin_features:\n",
    "    penguins.boxplot(column=col, by=penguin_label, figsize=(6, 6))\n",
    "    plt.title(col)\n",
    "\n",
    "# Tüm grafikleri göster\n",
    "plt.show()"
   ]
  },
  {
   "cell_type": "markdown",
   "id": "1f2042c2",
   "metadata": {},
   "source": [
    "Kutu grafiklerinden, tür 0 ve 2'nin (Adelie ve Chinstrap) culmen derinliği, yüzgeç uzunluğu ve vücut kütlesi açısından benzer veri profillerine sahip oldukları görülüyor; ancak Chinstrap penguenleri genellikle daha uzun culmenlere sahip. Tür 1 (Gentoo) ise diğerlerinden oldukça belirgin şekilde ayrılan özelliklere sahip gibi görünüyor, bu da iyi bir sınıflandırma modeli eğitmemize yardımcı olacaktır.\n",
    "\n",
    "### Veriyi Hazırlama\n",
    "\n",
    "İkili sınıflandırmada olduğu gibi, modeli eğitmeden önce özellikleri ve etiketi ayırmamız, ardından veriyi eğitim ve doğrulama alt kümelerine bölmemiz gerekiyor. Ayrıca, eğitim ve doğrulama veri kümelerindeki her bir etiket değerinin oranını korumak için *stratifikasyon* (katmanlama) tekniğini uygulayacağız."
   ]
  },
  {
   "cell_type": "code",
   "execution_count": 187,
   "id": "2d4d978c",
   "metadata": {},
   "outputs": [
    {
     "name": "stdout",
     "output_type": "stream",
     "text": [
      "Training Set: 239\n",
      "Test Set: 103\n"
     ]
    }
   ],
   "source": [
    "# Veriyi eğitim ve test olarak ayırmak için sklearn'den fonksiyon alıyoruz\n",
    "from sklearn.model_selection import train_test_split\n",
    "\n",
    "# Özellikleri (p_x) ve hedefi (p_y) ayırıyoruz\n",
    "p_x, p_y = penguins[penguin_features].values, penguins[penguin_label].values\n",
    "\n",
    "# Veriyi eğitim ve test setlerine bölüyoruz\n",
    "# test_size=0.3 → %30 test, %70 eğitim\n",
    "# random_state=0 → her seferinde aynı bölünme için sabit tohum\n",
    "# stratify=p_y → sınıf dağılımını eğitim ve testte korur\n",
    "p_x_train, p_x_test, p_y_train, p_y_test = train_test_split(p_x, p_y, test_size=0.3, random_state=0, stratify=p_y)\n",
    "\n",
    "# Eğitim ve test setindeki örnek sayısını yazdırıyoruz\n",
    "print(f\"Training Set: {p_x_train.shape[0]}\\nTest Set: {p_x_test.shape[0]}\")"
   ]
  },
  {
   "cell_type": "markdown",
   "id": "ec33ae28",
   "metadata": {},
   "source": [
    "### Çok Sınıflı Bir Sınıflandırıcıyı Eğitme ve Değerlendirme\n",
    "\n",
    "Artık elimizde bir eğitim özelliği kümesi ve buna karşılık gelen eğitim etiketleri olduğuna göre, veriye çok sınıflı bir sınıflandırma algoritması uygulayarak bir model oluşturabiliriz. Scikit-Learn kütüphanesindeki çoğu sınıflandırma algoritması, çok sınıflı sınıflandırmayı doğal olarak destekler. Biz de bir lojistik regresyon algoritmasını deneyeceğiz.\n"
   ]
  },
  {
   "cell_type": "code",
   "execution_count": 188,
   "id": "7d0c3e12",
   "metadata": {},
   "outputs": [
    {
     "name": "stdout",
     "output_type": "stream",
     "text": [
      "LogisticRegression(C=10.0, max_iter=10000)\n"
     ]
    }
   ],
   "source": [
    "# Lojistik regresyon modelini sklearn'den alıyoruz\n",
    "from sklearn.linear_model import LogisticRegression\n",
    "\n",
    "# Regülerizasyon parametresi (küçük değer → güçlü regülerizasyon)\n",
    "reg = 0.1\n",
    "\n",
    "# Çoklu sınıf lojistik regresyon modeli oluşturuyoruz ve eğitiyoruz\n",
    "# C=1/reg → regülerizasyonun tersi, büyük C az regülerizasyon demek\n",
    "# solver='lbfgs' → çoklu sınıf problemi için uygun ve hızlı algoritma\n",
    "# max_iter=10000 → algoritmanın maksimum iterasyon sayısı (çok uzun süren durumlar için artırıldı)\n",
    "multi_model = LogisticRegression(C=1/reg, solver='lbfgs', max_iter=10000).fit(p_x_train, p_y_train)\n",
    "\n",
    "# Eğitilen modeli yazdır\n",
    "print(multi_model)"
   ]
  },
  {
   "cell_type": "markdown",
   "id": "f77d2e27",
   "metadata": {},
   "source": [
    "Artık eğitilmiş modeli kullanarak test özelliklerine ait etiketleri tahmin edebilir ve tahmin edilen etiketleri gerçek etiketlerle karşılaştırabiliriz."
   ]
  },
  {
   "cell_type": "code",
   "execution_count": 189,
   "id": "3a5bc43d",
   "metadata": {},
   "outputs": [
    {
     "name": "stdout",
     "output_type": "stream",
     "text": [
      "Predicted labels: [0 1 0 2 2 1 1 1 0 2 2 1 2 1 2]\n",
      "Actual labels   : [0 1 2 2 2 1 1 1 0 2 2 1 2 1 2]\n"
     ]
    }
   ],
   "source": [
    "# Test verisi için penguen türlerini tahmin et\n",
    "penguin_pred = multi_model.predict(p_x_test)\n",
    "\n",
    "# İlk 15 tahmini yazdır\n",
    "print(\"Predicted labels:\", penguin_pred[:15])\n",
    "\n",
    "# İlk 15 gerçek etiketi yazdır\n",
    "print(\"Actual labels   :\", p_y_test[:15])"
   ]
  },
  {
   "cell_type": "markdown",
   "id": "c2a16bd1",
   "metadata": {},
   "source": [
    "Haydi bir sınıflandırma raporuna bakalım.\n"
   ]
  },
  {
   "cell_type": "code",
   "execution_count": 190,
   "id": "f0559786",
   "metadata": {},
   "outputs": [
    {
     "name": "stdout",
     "output_type": "stream",
     "text": [
      "              precision    recall  f1-score   support\n",
      "\n",
      "           0       0.96      0.98      0.97        45\n",
      "           1       1.00      1.00      1.00        37\n",
      "           2       0.95      0.90      0.93        21\n",
      "\n",
      "    accuracy                           0.97       103\n",
      "   macro avg       0.97      0.96      0.96       103\n",
      "weighted avg       0.97      0.97      0.97       103\n",
      "\n"
     ]
    }
   ],
   "source": [
    "# Sınıflandırma performansını detaylı gösteren raporu içe aktar\n",
    "from sklearn.metrics import classification_report\n",
    "\n",
    "# Gerçek ve tahmin edilen etiketler ile raporu yazdır\n",
    "# Raporda precision, recall, f1-score ve destek gibi metrikler bulunur\n",
    "print(classification_report(p_y_test, penguin_pred))"
   ]
  },
  {
   "cell_type": "markdown",
   "id": "69061ca7",
   "metadata": {},
   "source": [
    "İkili sınıflandırmada olduğu gibi, rapor her sınıf için *kesinlik (precision)* ve *duyarlılık (recall)* metriklerini içerir. Ancak, ikili sınıflandırmada *pozitif* sınıfa ait değerlere odaklanabilirken; bu durumda birden fazla sınıf olduğundan, modelin tüm üç sınıfta ne kadar iyi performans gösterdiğini anlamak için genel bir metriğe (ya *makro* ya da *ağırlıklı ortalama*) bakmamız gerekir.\n",
    "\n",
    "Genel metrikleri sınıflandırma raporundan ayrı olarak Scikit-Learn'ün `metrics` sınıflarını kullanarak da alabilirsiniz; ancak çok sınıflı (multiclass) sonuçlar için, kesinlik ve duyarlılık hesaplanırken hangi ortalamanın kullanılacağını belirtmeniz gerekir.\n"
   ]
  },
  {
   "cell_type": "code",
   "execution_count": 191,
   "id": "1db6f6b1",
   "metadata": {},
   "outputs": [
    {
     "name": "stdout",
     "output_type": "stream",
     "text": [
      "Overall Accuracy: 0.970873786407767\n",
      "Overall Recall   : 0.9608465608465608\n",
      "Overall Precision: 0.9688405797101449\n"
     ]
    }
   ],
   "source": [
    "# Değerlendirme metriklerini sklearn'den alıyoruz\n",
    "from sklearn.metrics import accuracy_score, recall_score, precision_score\n",
    "\n",
    "# Genel doğruluk oranını hesapla ve yazdır\n",
    "print(\"Overall Accuracy:\", accuracy_score(p_y_test, penguin_pred))\n",
    "\n",
    "# Çoklu sınıf için ortalama recall değerini hesapla ve yazdır\n",
    "print(\"Overall Recall   :\", recall_score(p_y_test, penguin_pred, average='macro'))\n",
    "\n",
    "# Çoklu sınıf için ortalama precision değerini hesapla ve yazdır\n",
    "print(\"Overall Precision:\", precision_score(p_y_test, penguin_pred, average='macro'))"
   ]
  },
  {
   "cell_type": "markdown",
   "id": "e083f6ee",
   "metadata": {},
   "source": [
    "Şimdi modelimiz için karışıklık matrisine bakalım.\n"
   ]
  },
  {
   "cell_type": "code",
   "execution_count": 192,
   "id": "979748ed",
   "metadata": {},
   "outputs": [
    {
     "name": "stdout",
     "output_type": "stream",
     "text": [
      "[[44  0  1]\n",
      " [ 0 37  0]\n",
      " [ 2  0 19]]\n"
     ]
    }
   ],
   "source": [
    "# Karışıklık matrisi fonksiyonunu sklearn'den alıyoruz\n",
    "from sklearn.metrics import confusion_matrix\n",
    "\n",
    "# Gerçek ve tahmin edilen sınıflardan karışıklık matrisini oluştur\n",
    "mcm = confusion_matrix(p_y_test, penguin_pred)\n",
    "\n",
    "# Matrisi yazdır\n",
    "print(mcm)"
   ]
  },
  {
   "cell_type": "markdown",
   "id": "b090c142",
   "metadata": {},
   "source": [
    "Karışıklık matrisi, her sınıf için tahmin edilen ve gerçek etiket değerlerinin kesişimini gösterir. Sol üstten sağ alta doğru olan diyagonal kesişimler, doğru tahmin edilen örneklerin sayısını belirtir.\n",
    "\n",
    "Birden fazla sınıfla çalışırken, bu matrisi bir ısı haritası olarak görselleştirmek genellikle daha anlaşılır olur.\n"
   ]
  },
  {
   "cell_type": "code",
   "execution_count": 193,
   "id": "9dc8ec1d",
   "metadata": {},
   "outputs": [
    {
     "data": {
      "image/png": "[encoded data removed]",
      "text/plain": [
       "<Figure size 640x480 with 2 Axes>"
      ]
     },
     "metadata": {},
     "output_type": "display_data"
    }
   ],
   "source": [
    "# Numpy ve matplotlib kütüphanelerini ekle\n",
    "import numpy as np\n",
    "import matplotlib.pyplot as plt\n",
    "\n",
    "# Jupyter içinde grafiklerin görünmesini sağlar\n",
    "%matplotlib inline\n",
    "\n",
    "# Karışıklık matrisini renkli bir görüntü olarak göster\n",
    "plt.imshow(mcm, interpolation='nearest', cmap=plt.cm.Blues)\n",
    "\n",
    "# Renk skalası çubuğunu ekle\n",
    "plt.colorbar()\n",
    "\n",
    "# Sınıf sayısı kadar işaret oluştur (0'dan başlayarak)\n",
    "tick_marks = np.arange(len(penguin_classes))\n",
    "\n",
    "# x ve y eksenlerine sınıf isimlerini yaz, x ekseninde yazıları 45 derece döndür\n",
    "plt.xticks(tick_marks, penguin_classes, rotation=45)\n",
    "plt.yticks(tick_marks, penguin_classes)\n",
    "\n",
    "# Eksen isimleri\n",
    "plt.xlabel('Predicted label')\n",
    "plt.ylabel('Actual label')\n",
    "\n",
    "# Grafiği göster\n",
    "plt.show()"
   ]
  },
  {
   "cell_type": "markdown",
   "id": "edf3f9d8",
   "metadata": {},
   "source": [
    "Karışıklık matrisi grafiğindeki daha koyu kareler, daha yüksek sayıda örneği temsil eder. Umuyoruz ki, tahmin edilen etiket ile gerçek etiketin aynı olduğu durumları gösteren diyagonal bir koyu çizgi görebilirsiniz.\n",
    "\n",
    "Çok sınıflı (multiclass) bir sınıflandırma modeli durumunda, tek bir ROC eğrisi (doğru pozitif oranı ile yanlış pozitif oranı grafiği) oluşturmak mümkün değildir. Ancak, her sınıf için Diğerlerine Karşı (One vs Rest - OVR) yaklaşımı kullanılarak, her bir sınıf için ayrı bir ROC grafiği oluşturulabilir.\n"
   ]
  },
  {
   "cell_type": "code",
   "execution_count": 194,
   "id": "dd44228e",
   "metadata": {},
   "outputs": [
    {
     "data": {
      "image/png": "[encoded data removed]",
      "text/plain": [
       "<Figure size 640x480 with 1 Axes>"
      ]
     },
     "metadata": {},
     "output_type": "display_data"
    }
   ],
   "source": [
    "# ROC eğrisi ve AUC hesaplama için sklearn fonksiyonlarını alıyoruz\n",
    "from sklearn.metrics import roc_auc_score, roc_curve\n",
    "\n",
    "# Modelin test verisi için sınıf olasılıklarını al\n",
    "penguin_prob = multi_model.predict_proba(p_x_test)\n",
    "\n",
    "# Her sınıf için ROC eğrisi değerlerini saklamak üzere boş sözlükler oluştur\n",
    "fpr = {}   # False Positive Rate\n",
    "tpr = {}   # True Positive Rate\n",
    "thresh = {} # Eşik değerleri\n",
    "\n",
    "# Her sınıf için ROC eğrisi hesapla (one-vs-rest yaklaşımı)\n",
    "for i in range(len(penguin_classes)):\n",
    "    fpr[i], tpr[i], thresh[i] = roc_curve(p_y_test, penguin_prob[:, i], pos_label=i)\n",
    "\n",
    "# Her sınıfın ROC eğrisini farklı renk ve çizgi ile çiz\n",
    "plt.plot(fpr[0], tpr[0], linestyle='--', color='red', label=penguin_classes[0] + ' vs Rest')\n",
    "plt.plot(fpr[1], tpr[1], linestyle='--', color='green', label=penguin_classes[1] + ' vs Rest')\n",
    "plt.plot(fpr[2], tpr[2], linestyle='--', color='blue', label=penguin_classes[2] + ' vs Rest')\n",
    "\n",
    "# Grafik başlığı ve eksen isimleri\n",
    "plt.title('Multiclass ROC Curve')\n",
    "plt.xlabel('False Positive Rate')\n",
    "plt.ylabel('True Positive Rate')\n",
    "\n",
    "# Grafik legendini uygun yere koy\n",
    "plt.legend(loc='best')\n",
    "\n",
    "# Grafiği göster\n",
    "plt.show()"
   ]
  },
  {
   "cell_type": "markdown",
   "id": "b71327ff",
   "metadata": {},
   "source": [
    "ROC performansını nicel olarak ifade etmek için, tüm OVR (Diğerlerine Karşı) eğrileri üzerinden ortalaması alınan toplam eğri altı alan (AUC - Area Under the Curve) skoru hesaplanabilir.\n"
   ]
  },
  {
   "cell_type": "code",
   "execution_count": 195,
   "id": "dde8a298",
   "metadata": {},
   "outputs": [
    {
     "name": "stdout",
     "output_type": "stream",
     "text": [
      "AUC Score: 0.9993574254297553\n"
     ]
    }
   ],
   "source": [
    "# Çoklu sınıf için ROC AUC skorunu hesapla\n",
    "auc = roc_auc_score(p_y_test, penguin_prob, multi_class='ovr')\n",
    "\n",
    "# AUC skorunu yazdır\n",
    "print(\"AUC Score:\", auc)"
   ]
  },
  {
   "cell_type": "markdown",
   "id": "30ec2f1f",
   "metadata": {},
   "source": [
    "### Verileri bir işlem hattında (pipeline) ön işleme tabi tutma\n",
    "\n",
    "Yine, ikili sınıflandırmada olduğu gibi, bir işlem hattı (pipeline) kullanarak verileri modele eğitmeden önce bazı ön işleme adımlarına tabi tutabilirsiniz. Eğitimden önce sayısal özellikleri ölçeklendiren bir dönüşüm adımı ekleyerek penguen tahmincisini geliştirip geliştiremeyeceğimize bakalım. Ayrıca, sadece bunu yapabileceğimizi göstermek amacıyla farklı bir algoritma olan *destek vektör makineleri (support vector machine)* yöntemini de deneyeceğiz.\n"
   ]
  },
  {
   "cell_type": "code",
   "execution_count": 196,
   "id": "eba8bcc1",
   "metadata": {},
   "outputs": [
    {
     "name": "stdout",
     "output_type": "stream",
     "text": [
      "Pipeline(steps=[('preprocessor',\n",
      "                 ColumnTransformer(transformers=[('preprocess',\n",
      "                                                  Pipeline(steps=[('scaler',\n",
      "                                                                   StandardScaler())]),\n",
      "                                                  [0, 1, 2, 3])])),\n",
      "                ('regressor', SVC(probability=True))])\n"
     ]
    }
   ],
   "source": [
    "from sklearn.preprocessing import StandardScaler\n",
    "from sklearn.compose import ColumnTransformer\n",
    "from sklearn.pipeline import Pipeline\n",
    "from sklearn.svm import SVC\n",
    "\n",
    "# Kullanacağımız özellik sütunlarının indeksleri\n",
    "feature_columns = [0, 1, 2, 3]\n",
    "\n",
    "# Sayısal özellikleri standartlaştırmak için pipeline oluşturuyoruz\n",
    "# StandardScaler, her sütunu ortalaması 0, standart sapması 1 olacak şekilde dönüştürür\n",
    "# Bu, özellikle SVM gibi ölçek duyarlı modeller için önemlidir\n",
    "feature_transformer = Pipeline(steps=[\n",
    "    ('scaler', StandardScaler())\n",
    "])\n",
    "\n",
    "# ColumnTransformer ile belirlenen sütunlara yukarıdaki dönüştürmeyi uygularız\n",
    "# Böylece yalnızca sayısal özellikler ölçeklendirilir, diğer sütunlar etkilenmez\n",
    "preprocessor = ColumnTransformer(\n",
    "    transformers=[\n",
    "        ('preprocess', feature_transformer, feature_columns)\n",
    "    ]\n",
    ")\n",
    "\n",
    "# Pipeline oluşturuyoruz\n",
    "# Önce veriyi ön işlemden geçiriyoruz (standartlaştırma)\n",
    "# Sonra SVM (Support Vector Classifier) ile sınıflandırma yapıyoruz\n",
    "# SVC, veriyi farklı sınıflara ayırmak için en uygun sınır çizgisini bulmaya çalışır\n",
    "# probability=True ile model, tahminlerin yanı sıra sınıfa ait olma olasılıklarını da hesaplar\n",
    "# Bu olasılıklar, ROC ve AUC gibi performans metriklerinde kullanılır\n",
    "pipeline = Pipeline(steps=[\n",
    "    ('preprocessor', preprocessor),\n",
    "    ('regressor', SVC(probability=True))\n",
    "])\n",
    "\n",
    "# Pipeline'ı eğitim verisiyle eğitiyoruz\n",
    "multi_model = pipeline.fit(p_x_train, p_y_train)\n",
    "\n",
    "# Eğitilmiş modelin temel bilgisini yazdırıyoruz\n",
    "print(multi_model)\n"
   ]
  },
  {
   "cell_type": "markdown",
   "id": "1c0264c7",
   "metadata": {},
   "source": [
    "Şimdi yeni modeli değerlendirelim.\n"
   ]
  },
  {
   "cell_type": "code",
   "execution_count": 197,
   "id": "e529e0c6",
   "metadata": {},
   "outputs": [
    {
     "name": "stdout",
     "output_type": "stream",
     "text": [
      "Overall Accuracy: 0.9805825242718447\n",
      "Overall Precision: 0.9767195767195768\n",
      "Overall Recall: 0.9767195767195768\n",
      "Average AUC: 0.9990361381446328\n"
     ]
    },
    {
     "data": {
      "image/png": "[encoded data removed]",
      "text/plain": [
       "<Figure size 640x480 with 2 Axes>"
      ]
     },
     "metadata": {},
     "output_type": "display_data"
    }
   ],
   "source": [
    "# Test verisi için tür tahminleri yapıyoruz\n",
    "penguin_pred = multi_model.predict(p_x_test)\n",
    "\n",
    "# Test verisi için her sınıfa ait olma olasılıklarını tahmin ediyoruz\n",
    "penguin_prob = multi_model.predict_proba(p_x_test)\n",
    "\n",
    "# Genel doğruluk oranını hesapla ve yazdır\n",
    "print(\"Overall Accuracy:\", accuracy_score(p_y_test, penguin_pred))\n",
    "\n",
    "# Çoklu sınıf için ortalama kesinlik (precision) skorunu hesapla ve yazdır\n",
    "print(\"Overall Precision:\", precision_score(p_y_test, penguin_pred, average='macro'))\n",
    "\n",
    "# Çoklu sınıf için ortalama duyarlılık (recall) skorunu hesapla ve yazdır\n",
    "print(\"Overall Recall:\", recall_score(p_y_test, penguin_pred, average='macro'))\n",
    "\n",
    "# Çoklu sınıf için ortalama AUC skorunu hesapla ve yazdır (One-vs-Rest yöntemi)\n",
    "print(\"Average AUC:\", roc_auc_score(p_y_test, penguin_prob, multi_class='ovr'))\n",
    "\n",
    "# Karışıklık matrisini ısı haritası olarak görselleştiriyoruz\n",
    "plt.imshow(mcm, interpolation=\"nearest\", cmap=plt.cm.Blues)\n",
    "\n",
    "# Renk skalası ekliyoruz\n",
    "plt.colorbar()\n",
    "\n",
    "# Sınıf sayısı kadar işaret oluşturuyoruz\n",
    "tick_marks = np.arange(len(penguin_classes))\n",
    "\n",
    "# X ve Y eksenine sınıf isimlerini yazıyoruz, X eksenindeki yazıları 45 derece döndürüyoruz\n",
    "plt.xticks(tick_marks, penguin_classes, rotation=45)\n",
    "plt.yticks(tick_marks, penguin_classes)\n",
    "\n",
    "# Eksen isimleri\n",
    "plt.xlabel('Predicted label')\n",
    "plt.ylabel('Actual label')\n",
    "\n",
    "# Grafiği gösteriyoruz\n",
    "plt.show()"
   ]
  },
  {
   "cell_type": "markdown",
   "id": "4436ffea",
   "metadata": {},
   "source": [
    "### Yeni veri gözlemleri ile modeli kullanma\n",
    "\n",
    "En yeni eğitilmiş modelimizi kaydederek, daha sonra tekrar kullanabilmemizi sağlayalım.\n"
   ]
  },
  {
   "cell_type": "code",
   "execution_count": 198,
   "id": "c73b783a",
   "metadata": {},
   "outputs": [
    {
     "data": {
      "text/plain": [
       "['penguin_multi_model.pkl']"
      ]
     },
     "execution_count": 198,
     "metadata": {},
     "output_type": "execute_result"
    }
   ],
   "source": [
    "# joblib kütüphanesini kullanarak modeli diske kaydetmek için içe aktar\n",
    "import joblib\n",
    "\n",
    "# Eğitilmiş modeli 'penguin_multi_model.pkl' adlı dosyaya kaydet\n",
    "filename = 'penguin_multi_model.pkl'\n",
    "joblib.dump(multi_model, filename)"
   ]
  },
  {
   "cell_type": "markdown",
   "id": "8c1fc9bd",
   "metadata": {},
   "source": [
    "Şimdi modeli kullanarak yeni bir penguen gözleminin sınıfını tahmin edelim.\n"
   ]
  },
  {
   "cell_type": "code",
   "execution_count": 199,
   "id": "cc61e748",
   "metadata": {},
   "outputs": [
    {
     "name": "stdout",
     "output_type": "stream",
     "text": [
      "New sample: [  50.4   15.3  224.  5550. ]\n",
      "Predicted class is Gentoo\n"
     ]
    }
   ],
   "source": [
    "# Daha önce kaydettiğimiz modeli dosyadan yükle\n",
    "multi_model = joblib.load(filename)\n",
    "\n",
    "# Yeni bir penguen örneği (özellikler: CulmenLength, CulmenDepth, FlipperLength, BodyMass)\n",
    "x_new = np.array([[50.4, 15.3, 224, 5550]])\n",
    "print(f\"New sample: {x_new[0]}\")\n",
    "\n",
    "# Yeni örnek için tahmin yap (tek örnek olduğu için [0] ile sonucu alıyoruz)\n",
    "penguin_pred = multi_model.predict(x_new)[0]\n",
    "\n",
    "# Tahmin edilen sınıf indeksini penguin_classes listesinden isim olarak yazdır\n",
    "print(f\"Predicted class is {penguin_classes[penguin_pred]}\")"
   ]
  },
  {
   "cell_type": "markdown",
   "id": "8bf11e82",
   "metadata": {},
   "source": [
    "Ayrıca modele birden fazla penguen gözlemi gönderip, her biri için tahmin alabilirsiniz.\n"
   ]
  },
  {
   "cell_type": "code",
   "execution_count": 200,
   "id": "13174573",
   "metadata": {},
   "outputs": [
    {
     "name": "stdout",
     "output_type": "stream",
     "text": [
      "New samples:\n",
      "[[  49.5   18.4  195.  3600. ]\n",
      " [  38.2   20.1  190.  3900. ]]\n",
      "2 (Chinstrap)\n",
      "0 (Adelie)\n"
     ]
    }
   ],
   "source": [
    "# Yeni iki penguen örneği, her satır bir örnek, sütunlar özellikler (CulmenLength, CulmenDepth, FlipperLength, BodyMass)\n",
    "x_new = np.array([[49.5, 18.4, 195, 3600],\n",
    "                  [38.2, 20.1, 190, 3900]])\n",
    "print(f\"New samples:\\n{x_new}\")\n",
    "\n",
    "# Model ile bu yeni örnekler için tür tahminleri yap\n",
    "predictions = multi_model.predict(x_new)\n",
    "\n",
    "# Tahmin sonuçlarını yazdır (sınıf indeksini ve sınıf ismini)\n",
    "for prediction in predictions:\n",
    "    print(prediction, '(' + penguin_classes[prediction] + ')')"
   ]
  }
 ],
 "metadata": {
  "kernelspec": {
   "display_name": "venv",
   "language": "python",
   "name": "python3"
  },
  "language_info": {
   "codemirror_mode": {
    "name": "ipython",
    "version": 3
   },
   "file_extension": ".py",
   "mimetype": "text/x-python",
   "name": "python",
   "nbconvert_exporter": "python",
   "pygments_lexer": "ipython3",
   "version": "3.13.5"
  }
 },
 "nbformat": 4,
 "nbformat_minor": 5
}
